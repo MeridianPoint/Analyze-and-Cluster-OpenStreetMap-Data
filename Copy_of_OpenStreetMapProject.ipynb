{
  "nbformat": 4,
  "nbformat_minor": 0,
  "metadata": {
    "colab": {
      "name": "Copy of OpenStreetMapProject.ipynb",
      "provenance": [],
      "collapsed_sections": [],
      "toc_visible": true
    },
    "kernelspec": {
      "name": "python3",
      "display_name": "Python 3"
    },
    "language_info": {
      "name": "python"
    }
  },
  "cells": [
    {
      "cell_type": "markdown",
      "source": [
        "1. Load Data"
      ],
      "metadata": {
        "id": "g2q6T14nNd6T"
      }
    },
    {
      "cell_type": "code",
      "source": [
        "import xmltodict\n",
        "import pandas as pd\n",
        "data = xmltodict.parse(open(\"map\").read())"
      ],
      "metadata": {
        "id": "0lOvPX8a33H0"
      },
      "execution_count": null,
      "outputs": []
    },
    {
      "cell_type": "markdown",
      "source": [
        "2. Extract edge pairs from way "
      ],
      "metadata": {
        "id": "Bgk9v9qgNr5R"
      }
    },
    {
      "cell_type": "code",
      "source": [
        "def ExtractEdgePairs(wayEntry):\n",
        "  wayNodes = wayEntry[\"nd\"]\n",
        "  edgePair = []\n",
        "  if wayEntry.__contains__(\"highway\"):\n",
        "    return edgePair\n",
        "  for i in range(0, len(wayNodes) - 2):\n",
        "    prevItem = wayNodes[i]\n",
        "    nextItem = wayNodes[i + 1]\n",
        "    edgePair.append((prevItem[\"@ref\"], nextItem[\"@ref\"]))\n",
        "    edgePair.append((nextItem[\"@ref\"], prevItem[\"@ref\"]))\n",
        "  return edgePair\n",
        "\n",
        "All_Edge_Pair = []\n",
        "for wayEntry in data[\"osm\"][\"way\"]:\n",
        "  All_Edge_Pair.extend(ExtractEdgePairs(wayEntry))"
      ],
      "metadata": {
        "id": "xW3rjm6B_Jh1"
      },
      "execution_count": null,
      "outputs": []
    },
    {
      "cell_type": "markdown",
      "source": [
        "3. Extract src and dst and constuct data frame"
      ],
      "metadata": {
        "id": "c2ozEBDfN_yB"
      }
    },
    {
      "cell_type": "code",
      "source": [
        "src = []\n",
        "dst = []\n",
        "for pair in All_Edge_Pair:\n",
        "  src.append(pair[0])\n",
        "  dst.append(pair[1])\n",
        "\n",
        "edgePairData = {\"src\": src, \"dst\": dst}\n",
        "edgePairDF = pd.DataFrame(edgePairData)"
      ],
      "metadata": {
        "id": "N2a10rSFIUzZ"
      },
      "execution_count": null,
      "outputs": []
    },
    {
      "cell_type": "markdown",
      "source": [
        "4. Extract info from nodes"
      ],
      "metadata": {
        "id": "Y9I08H5rOFCk"
      }
    },
    {
      "cell_type": "code",
      "source": [
        "nodes = data[\"osm\"][\"node\"]\n",
        "\n",
        "nodes_ID = []\n",
        "nodes_lat = []\n",
        "nodes_lon = []\n",
        "\n",
        "for node in nodes:\n",
        "  nodes_ID.append(node[\"@id\"])\n",
        "  nodes_lat.append(node[\"@lat\"])\n",
        "  nodes_lon.append(node[\"@lon\"])"
      ],
      "metadata": {
        "id": "sFzOqiQbKkUc"
      },
      "execution_count": null,
      "outputs": []
    },
    {
      "cell_type": "code",
      "source": [
        "nodeData = {\"id\": nodes_ID, \"lat\": nodes_lat,\"lon\": nodes_lon}\n",
        "nodeDF = pd.DataFrame(nodeData)"
      ],
      "metadata": {
        "id": "pZNaImryLdlw"
      },
      "execution_count": null,
      "outputs": []
    },
    {
      "cell_type": "markdown",
      "source": [
        "5. save files"
      ],
      "metadata": {
        "id": "dOoJl0m0OKVY"
      }
    },
    {
      "cell_type": "code",
      "source": [
        "edgePairDF.to_csv(\"EdgePair.csv\")\n",
        "nodeDF.to_csv(\"nodeInfo.csv\")"
      ],
      "metadata": {
        "id": "Sebsr4WfM9U-"
      },
      "execution_count": null,
      "outputs": []
    }
  ]
}